{
  "cells": [
    {
      "cell_type": "code",
      "execution_count": null,
      "id": "bc4a91f1-b873-4044-969a-d9f60ffbe78f",
      "metadata": {
        "tags": [],
        "id": "bc4a91f1-b873-4044-969a-d9f60ffbe78f"
      },
      "outputs": [],
      "source": [
        "import tensorflow as tf\n",
        "import matplotlib.pyplot as plt"
      ]
    },
    {
      "cell_type": "code",
      "execution_count": null,
      "id": "1d9f70d7-95bf-41c7-8f8e-0671eb4c2047",
      "metadata": {
        "tags": [],
        "id": "1d9f70d7-95bf-41c7-8f8e-0671eb4c2047"
      },
      "outputs": [],
      "source": [
        "sentences = ['cat chases mouse',\n",
        "        'cat catches mouse',\n",
        "        'cat eats mouse',\n",
        "        'mouse runs into hole',\n",
        "        'cat says bad words',\n",
        "        'cat and mouse are pals',\n",
        "        'cat and mouse are chums',\n",
        "        'mouse stores food in hole',\n",
        "        'cat stores food in house',\n",
        "        'mouse sleeps in hole',\n",
        "        'cat sleeps in house',\n",
        "        'cat and mouse are buddies',\n",
        "        'mouse lives in hole',\n",
        "        'cat lives in house']"
      ]
    },
    {
      "cell_type": "code",
      "execution_count": null,
      "id": "04d9e420-2f0d-4a41-b0d0-bbf293cb9a2b",
      "metadata": {
        "tags": [],
        "id": "04d9e420-2f0d-4a41-b0d0-bbf293cb9a2b"
      },
      "outputs": [],
      "source": [
        "def get_vocab(data):\n",
        "  i = 1\n",
        "  word2idx = dict()\n",
        "  idx2word = dict()\n",
        "  temp = set()\n",
        "\n",
        "  for sentence in sentences: # loop over all sentences\n",
        "    for word in sentence.split():\n",
        "      if word not in temp:\n",
        "        temp.add(word)\n",
        "        word2idx[word] = i # mapping word to id\n",
        "        idx2word[i] = word  # mapping id to word\n",
        "        i += 1\n",
        "  return i, word2idx, idx2word\n",
        "\n",
        "vocab_size, word2idx, idx2word = get_vocab(sentences)"
      ]
    },
    {
      "cell_type": "code",
      "source": [
        "word2idx['mouse'], idx2word[3]"
      ],
      "metadata": {
        "colab": {
          "base_uri": "https://localhost:8080/"
        },
        "id": "VQwXRJ6AZmgK",
        "outputId": "0c4281ae-985e-4a41-e404-5253f0187bc9"
      },
      "id": "VQwXRJ6AZmgK",
      "execution_count": null,
      "outputs": [
        {
          "output_type": "execute_result",
          "data": {
            "text/plain": [
              "(3, 'mouse')"
            ]
          },
          "metadata": {},
          "execution_count": 124
        }
      ]
    },
    {
      "cell_type": "code",
      "execution_count": null,
      "id": "f83d58cf-212a-4edc-8049-d9d3bc68bd59",
      "metadata": {
        "tags": [],
        "id": "f83d58cf-212a-4edc-8049-d9d3bc68bd59"
      },
      "outputs": [],
      "source": [
        "def prev_words(i, doc, window_size):\n",
        "  out = []\n",
        "  for index in range(i-window_size, i):\n",
        "    if index >= 0:\n",
        "      out.append(word2idx[doc[index]])\n",
        "    else:\n",
        "      out.append(0) # 0 = <PAD>\n",
        "  return out\n",
        "\n",
        "def next_words(i, doc, window_size):\n",
        "  out = []\n",
        "  for index in range(i+1, i+window_size+1, 1):\n",
        "    if index < len(doc):\n",
        "      out.append(word2idx[doc[index]])\n",
        "    else:\n",
        "      out.append(0) # 0 = <PAD>\n",
        "  return out\n",
        "\n",
        "\n",
        "def get_training_data(sentences, window_size=6):\n",
        "  X = []\n",
        "  y = []\n",
        "  for sentence in sentences:\n",
        "    xi = []\n",
        "    yi = []\n",
        "    sentence = sentence.split()\n",
        "    for index, word in enumerate(sentence):\n",
        "      prev = prev_words(index, sentence, window_size//2)\n",
        "      next = next_words(index, sentence, window_size//2)\n",
        "      assert len(prev) == len(next)\n",
        "      xi.append(prev + next)\n",
        "      yi.append([word2idx[word]])\n",
        "    X.extend(xi)\n",
        "    y.extend(yi)\n",
        "  return X, y\n",
        "\n",
        "window_size = 6\n",
        "X, y = get_training_data(sentences, window_size)"
      ]
    },
    {
      "cell_type": "code",
      "source": [
        "[idx2word[i] for i in X[24]]"
      ],
      "metadata": {
        "colab": {
          "base_uri": "https://localhost:8080/",
          "height": 221
        },
        "id": "VVwwyhiDXafg",
        "outputId": "073c2def-3882-4d7b-a71c-b0c9ab2d50f6"
      },
      "id": "VVwwyhiDXafg",
      "execution_count": null,
      "outputs": [
        {
          "output_type": "error",
          "ename": "KeyError",
          "evalue": "ignored",
          "traceback": [
            "\u001b[0;31m---------------------------------------------------------------------------\u001b[0m",
            "\u001b[0;31mKeyError\u001b[0m                                  Traceback (most recent call last)",
            "\u001b[0;32m<ipython-input-173-721b40c3d871>\u001b[0m in \u001b[0;36m<module>\u001b[0;34m\u001b[0m\n\u001b[0;32m----> 1\u001b[0;31m \u001b[0;34m[\u001b[0m\u001b[0midx2word\u001b[0m\u001b[0;34m[\u001b[0m\u001b[0mi\u001b[0m\u001b[0;34m]\u001b[0m \u001b[0;32mfor\u001b[0m \u001b[0mi\u001b[0m \u001b[0;32min\u001b[0m \u001b[0mX\u001b[0m\u001b[0;34m[\u001b[0m\u001b[0;36m24\u001b[0m\u001b[0;34m]\u001b[0m\u001b[0;34m]\u001b[0m\u001b[0;34m\u001b[0m\u001b[0;34m\u001b[0m\u001b[0m\n\u001b[0m",
            "\u001b[0;32m<ipython-input-173-721b40c3d871>\u001b[0m in \u001b[0;36m<listcomp>\u001b[0;34m(.0)\u001b[0m\n\u001b[0;32m----> 1\u001b[0;31m \u001b[0;34m[\u001b[0m\u001b[0midx2word\u001b[0m\u001b[0;34m[\u001b[0m\u001b[0mi\u001b[0m\u001b[0;34m]\u001b[0m \u001b[0;32mfor\u001b[0m \u001b[0mi\u001b[0m \u001b[0;32min\u001b[0m \u001b[0mX\u001b[0m\u001b[0;34m[\u001b[0m\u001b[0;36m24\u001b[0m\u001b[0;34m]\u001b[0m\u001b[0;34m]\u001b[0m\u001b[0;34m\u001b[0m\u001b[0;34m\u001b[0m\u001b[0m\n\u001b[0m",
            "\u001b[0;31mKeyError\u001b[0m: 0"
          ]
        }
      ]
    },
    {
      "cell_type": "code",
      "source": [
        "[idx2word[i] for i in y[24]]"
      ],
      "metadata": {
        "colab": {
          "base_uri": "https://localhost:8080/"
        },
        "id": "SBmte2vdXbHY",
        "outputId": "5a759eba-84bc-4566-b648-91676735b032"
      },
      "id": "SBmte2vdXbHY",
      "execution_count": null,
      "outputs": [
        {
          "output_type": "execute_result",
          "data": {
            "text/plain": [
              "['mouse']"
            ]
          },
          "metadata": {},
          "execution_count": 129
        }
      ]
    },
    {
      "cell_type": "code",
      "source": [
        "len(X)"
      ],
      "metadata": {
        "colab": {
          "base_uri": "https://localhost:8080/"
        },
        "id": "2YBL-SDyXbEv",
        "outputId": "ff3beec3-e7ae-452e-d592-f141e6ea60e0"
      },
      "id": "2YBL-SDyXbEv",
      "execution_count": null,
      "outputs": [
        {
          "output_type": "execute_result",
          "data": {
            "text/plain": [
              "58"
            ]
          },
          "metadata": {},
          "execution_count": 174
        }
      ]
    },
    {
      "cell_type": "code",
      "source": [
        "model = tf.keras.models.Sequential()"
      ],
      "metadata": {
        "id": "fJ3GHUT8bNoP"
      },
      "id": "fJ3GHUT8bNoP",
      "execution_count": null,
      "outputs": []
    },
    {
      "cell_type": "code",
      "source": [
        "embed_size = 2\n",
        "model.add(tf.keras.layers.Embedding(vocab_size, embed_size,\n",
        "                                    input_length=6, name='embedding'))\n",
        "model.add(tf.keras.layers.GlobalAveragePooling1D())\n",
        "model.add(tf.keras.layers.Dense(vocab_size,\n",
        "                                activation='softmax'))"
      ],
      "metadata": {
        "id": "AAndLTmObNl-"
      },
      "id": "AAndLTmObNl-",
      "execution_count": null,
      "outputs": []
    },
    {
      "cell_type": "code",
      "source": [
        "model.compile(optimizer='Adam',\n",
        "              loss='sparse_categorical_crossentropy')"
      ],
      "metadata": {
        "id": "jEtM5JBpbNj0"
      },
      "id": "jEtM5JBpbNj0",
      "execution_count": null,
      "outputs": []
    },
    {
      "cell_type": "code",
      "source": [
        "model.fit(X, y, epochs=10, batch_size=6)"
      ],
      "metadata": {
        "colab": {
          "base_uri": "https://localhost:8080/"
        },
        "id": "vVKRxMkLbNfg",
        "outputId": "5b92b0c7-8c4c-4cb7-911e-51c8f23f3a91"
      },
      "id": "vVKRxMkLbNfg",
      "execution_count": null,
      "outputs": [
        {
          "output_type": "stream",
          "name": "stdout",
          "text": [
            "Epoch 1/10\n",
            "10/10 [==============================] - 0s 3ms/step - loss: 2.7678\n",
            "Epoch 2/10\n",
            "10/10 [==============================] - 0s 3ms/step - loss: 2.7642\n",
            "Epoch 3/10\n",
            "10/10 [==============================] - 0s 4ms/step - loss: 2.7611\n",
            "Epoch 4/10\n",
            "10/10 [==============================] - 0s 4ms/step - loss: 2.7580\n",
            "Epoch 5/10\n",
            "10/10 [==============================] - 0s 4ms/step - loss: 2.7545\n",
            "Epoch 6/10\n",
            "10/10 [==============================] - 0s 4ms/step - loss: 2.7517\n",
            "Epoch 7/10\n",
            "10/10 [==============================] - 0s 3ms/step - loss: 2.7485\n",
            "Epoch 8/10\n",
            "10/10 [==============================] - 0s 3ms/step - loss: 2.7455\n",
            "Epoch 9/10\n",
            "10/10 [==============================] - 0s 5ms/step - loss: 2.7428\n",
            "Epoch 10/10\n",
            "10/10 [==============================] - 0s 3ms/step - loss: 2.7397\n"
          ]
        },
        {
          "output_type": "execute_result",
          "data": {
            "text/plain": [
              "<keras.callbacks.History at 0x7ff8df546b80>"
            ]
          },
          "metadata": {},
          "execution_count": 190
        }
      ]
    },
    {
      "cell_type": "code",
      "source": [
        "word = 'mouse'\n",
        "input_vec = tf.convert_to_tensor([word2idx[word]])\n",
        "model.get_layer('embedding')(input_vec).numpy().tolist()"
      ],
      "metadata": {
        "colab": {
          "base_uri": "https://localhost:8080/"
        },
        "id": "kbJxsA_0bNdG",
        "outputId": "cc44854d-2df6-4976-b69c-3b1536d35f1c"
      },
      "id": "kbJxsA_0bNdG",
      "execution_count": null,
      "outputs": [
        {
          "output_type": "execute_result",
          "data": {
            "text/plain": [
              "[[0.4335245192050934, -0.04135013744235039]]"
            ]
          },
          "metadata": {},
          "execution_count": 191
        }
      ]
    },
    {
      "cell_type": "code",
      "source": [
        "word2vec = []\n",
        "for word, word_index  in word2idx.items():\n",
        "  input_vec = tf.convert_to_tensor([word2idx[word]])\n",
        "  emb = model.get_layer('embedding')(input_vec).numpy().tolist()[0]\n",
        "  word2vec.append((word, emb))"
      ],
      "metadata": {
        "id": "o3kQRQBkbNa0"
      },
      "id": "o3kQRQBkbNa0",
      "execution_count": null,
      "outputs": []
    },
    {
      "cell_type": "code",
      "source": [
        "word2vec[11]"
      ],
      "metadata": {
        "colab": {
          "base_uri": "https://localhost:8080/"
        },
        "id": "kq1BEyZSbNYZ",
        "outputId": "1fe12093-92be-418b-fc42-456c9f706bc1"
      },
      "id": "kq1BEyZSbNYZ",
      "execution_count": null,
      "outputs": [
        {
          "output_type": "execute_result",
          "data": {
            "text/plain": [
              "('and', [0.2876746952533722, -0.25695645809173584])"
            ]
          },
          "metadata": {},
          "execution_count": 193
        }
      ]
    },
    {
      "cell_type": "code",
      "source": [
        "plt.figure(figsize=(10, 6))\n",
        "plt.scatter([i[1][0] for i in word2vec], [i[1][1] for i in word2vec])\n",
        "for item in word2vec:\n",
        "  word = item[0]\n",
        "  plt.text(item[1][0], item[1][1], word, fontdict={'fontsize':12})\n",
        "plt.show()"
      ],
      "metadata": {
        "colab": {
          "base_uri": "https://localhost:8080/",
          "height": 376
        },
        "id": "OOum4wpXbNTY",
        "outputId": "7b742a59-cc3f-454c-942c-94fdda6e546e"
      },
      "id": "OOum4wpXbNTY",
      "execution_count": null,
      "outputs": [
        {
          "output_type": "display_data",
          "data": {
            "text/plain": [
              "<Figure size 720x432 with 1 Axes>"
            ],
            "image/png": "[encoded data removed]"
          },
          "metadata": {
            "needs_background": "light"
          }
        }
      ]
    },
    {
      "cell_type": "code",
      "source": [],
      "metadata": {
        "id": "1P6ioZ1znNYE"
      },
      "id": "1P6ioZ1znNYE",
      "execution_count": null,
      "outputs": []
    },
    {
      "cell_type": "code",
      "source": [],
      "metadata": {
        "id": "tjDJUic6klt0"
      },
      "id": "tjDJUic6klt0",
      "execution_count": null,
      "outputs": []
    },
    {
      "cell_type": "code",
      "source": [],
      "metadata": {
        "id": "i5RCc5cTklrj"
      },
      "id": "i5RCc5cTklrj",
      "execution_count": null,
      "outputs": []
    },
    {
      "cell_type": "code",
      "source": [],
      "metadata": {
        "id": "f5gvTnGEnNKp"
      },
      "id": "f5gvTnGEnNKp",
      "execution_count": null,
      "outputs": []
    },
    {
      "cell_type": "code",
      "source": [],
      "metadata": {
        "id": "MPOraWZunNIO"
      },
      "id": "MPOraWZunNIO",
      "execution_count": null,
      "outputs": []
    },
    {
      "cell_type": "code",
      "source": [],
      "metadata": {
        "id": "pprpuKITnNFt"
      },
      "id": "pprpuKITnNFt",
      "execution_count": null,
      "outputs": []
    },
    {
      "cell_type": "markdown",
      "source": [
        "### Hyperparameters\n",
        " - Window size\n",
        " - Embedding Dimension\n",
        " - Type (CBOW or Skipgram)"
      ],
      "metadata": {
        "id": "lUJa_TMLo6jF"
      },
      "id": "lUJa_TMLo6jF"
    },
    {
      "cell_type": "code",
      "source": [],
      "metadata": {
        "id": "1dABk6pxklo6"
      },
      "id": "1dABk6pxklo6",
      "execution_count": null,
      "outputs": []
    },
    {
      "cell_type": "markdown",
      "source": [
        "### CBOW\n",
        "- Faster to train, Good for Large text corpus.\n",
        "- Better representation for Frequent words\n",
        "\n",
        "![alt text](https://cdn-images-1.medium.com/max/800/1*UVe8b6CWYykcxbBOR6uCfg.png \"CBOW\")"
      ],
      "metadata": {
        "id": "PdfN1s9gche7"
      },
      "id": "PdfN1s9gche7"
    },
    {
      "cell_type": "markdown",
      "source": [
        "### SKIPGRAM\n",
        "- works well with a small amount of the training data\n",
        "- Better representation for rare words\n",
        "\n",
        "![alt text](https://miro.medium.com/max/568/1*3xy5IOpScN0aQwwfFbCmGQ.png \"skipgram\")"
      ],
      "metadata": {
        "id": "vykteSaFcQym"
      },
      "id": "vykteSaFcQym"
    },
    {
      "cell_type": "code",
      "source": [],
      "metadata": {
        "id": "AOtEMK_AHA4y"
      },
      "id": "AOtEMK_AHA4y",
      "execution_count": null,
      "outputs": []
    },
    {
      "cell_type": "code",
      "source": [],
      "metadata": {
        "id": "NYLCKKAFHAyc"
      },
      "id": "NYLCKKAFHAyc",
      "execution_count": null,
      "outputs": []
    },
    {
      "cell_type": "code",
      "source": [],
      "metadata": {
        "id": "69VVWFumHAoj"
      },
      "id": "69VVWFumHAoj",
      "execution_count": null,
      "outputs": []
    },
    {
      "cell_type": "code",
      "source": [],
      "metadata": {
        "id": "J0rJPDlgHAhN"
      },
      "id": "J0rJPDlgHAhN",
      "execution_count": null,
      "outputs": []
    },
    {
      "cell_type": "code",
      "source": [],
      "metadata": {
        "id": "iuRsTBMhHAU1"
      },
      "id": "iuRsTBMhHAU1",
      "execution_count": null,
      "outputs": []
    },
    {
      "cell_type": "code",
      "source": [],
      "metadata": {
        "id": "cWQ9bqW7HAMe"
      },
      "id": "cWQ9bqW7HAMe",
      "execution_count": null,
      "outputs": []
    },
    {
      "cell_type": "markdown",
      "source": [
        "### FASTTEXT\n",
        "#### Sub-word Level Embeddings\n",
        "![alt text](https://i.imgur.com/HMbzqzy.png \"fasttext\")"
      ],
      "metadata": {
        "id": "STjhH3_belVO"
      },
      "id": "STjhH3_belVO"
    },
    {
      "cell_type": "code",
      "source": [],
      "metadata": {
        "id": "_hx-1NwlesrX"
      },
      "id": "_hx-1NwlesrX",
      "execution_count": null,
      "outputs": []
    },
    {
      "cell_type": "code",
      "source": [],
      "metadata": {
        "id": "Fyj70livEeFM"
      },
      "id": "Fyj70livEeFM",
      "execution_count": null,
      "outputs": []
    },
    {
      "cell_type": "code",
      "source": [],
      "metadata": {
        "id": "xjOeyn2LEeDJ"
      },
      "id": "xjOeyn2LEeDJ",
      "execution_count": null,
      "outputs": []
    },
    {
      "cell_type": "code",
      "source": [],
      "metadata": {
        "id": "vaT8wQaWEeAg"
      },
      "id": "vaT8wQaWEeAg",
      "execution_count": null,
      "outputs": []
    },
    {
      "cell_type": "code",
      "source": [],
      "metadata": {
        "id": "hWq5TCFVEd-H"
      },
      "id": "hWq5TCFVEd-H",
      "execution_count": null,
      "outputs": []
    },
    {
      "cell_type": "code",
      "source": [],
      "metadata": {
        "id": "YJBRaJw8Ed7U"
      },
      "id": "YJBRaJw8Ed7U",
      "execution_count": null,
      "outputs": []
    },
    {
      "cell_type": "code",
      "source": [],
      "metadata": {
        "id": "gOnx-6EYEd4r"
      },
      "id": "gOnx-6EYEd4r",
      "execution_count": null,
      "outputs": []
    },
    {
      "cell_type": "code",
      "source": [],
      "metadata": {
        "id": "hI7lUf5tEd2R"
      },
      "id": "hI7lUf5tEd2R",
      "execution_count": null,
      "outputs": []
    },
    {
      "cell_type": "code",
      "source": [],
      "metadata": {
        "id": "Fpa2HbyZEdzt"
      },
      "id": "Fpa2HbyZEdzt",
      "execution_count": null,
      "outputs": []
    },
    {
      "cell_type": "code",
      "source": [],
      "metadata": {
        "id": "7ZhyUlPcEdxL"
      },
      "id": "7ZhyUlPcEdxL",
      "execution_count": null,
      "outputs": []
    },
    {
      "cell_type": "code",
      "source": [],
      "metadata": {
        "id": "80rnDDQ-Edut"
      },
      "id": "80rnDDQ-Edut",
      "execution_count": null,
      "outputs": []
    },
    {
      "cell_type": "code",
      "source": [
        "model = tf.keras.models.Sequential()\n",
        "model.add(tf.keras.layers.Embedding(vocab_size, 2, input_length=window_size, name='emb'))\n",
        "model.add(tf.keras.layers.GlobalAveragePooling1D())\n",
        "model.add(tf.keras.layers.Dense(vocab_size, activation='softmax', name='pred'))\n",
        "model.compile(optimizer='Adam', loss='categorical_crossentropy', metrics=['accuracy'])\n",
        "model.fit(X, y, epochs=10, batch_size=12)\n",
        "model.get_layer('emb')(tf.convert_to_tensor([10]))\n",
        "\n",
        "word2vec = []\n",
        "for idx, word in idx2word.items():\n",
        "    vec = model.get_layer('emb')(tf.convert_to_tensor([idx])).numpy().tolist()[0]\n",
        "    word2vec.append((word, vec))\n",
        "\n",
        "plt.figure(figsize=(10,6))\n",
        "plt.scatter([i[1][0] for i in word2vec], [i[1][1] for i in word2vec])\n",
        "for word, _ in word2vec:\n",
        "    plt.text(_[0], _[1], word, fontdict={'fontsize':15})\n",
        "plt.show()"
      ],
      "metadata": {
        "id": "Y91YjiLjEdsI"
      },
      "id": "Y91YjiLjEdsI",
      "execution_count": null,
      "outputs": []
    }
  ],
  "metadata": {
    "kernelspec": {
      "display_name": "TF py3.8.5",
      "language": "python",
      "name": "tf"
    },
    "language_info": {
      "codemirror_mode": {
        "name": "ipython",
        "version": 3
      },
      "file_extension": ".py",
      "mimetype": "text/x-python",
      "name": "python",
      "nbconvert_exporter": "python",
      "pygments_lexer": "ipython3",
      "version": "3.8.5"
    },
    "colab": {
      "provenance": []
    }
  },
  "nbformat": 4,
  "nbformat_minor": 5
}